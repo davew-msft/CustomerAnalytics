{
 "cells": [
  {
   "cell_type": "markdown",
   "metadata": {},
   "source": [
    "## Customer Lifetime Value (CLV or LTV) Analytics\n",
    "\n",
    "CLV is useful for targeting special promotions and offers to our most valued customers.  \n",
    "\n",
    ">Who are the most valued customers?\n",
    "\n",
    "**Our most valued customers are the ones who spent the most _on net_ and have spent it recently**.  \n",
    "\n",
    "```\n",
    "LTV = Net Revenue\n",
    "or\n",
    "LTV = Gross Revenue - Total Cost\n",
    "```\n",
    "\n",
    "CLV is the total monetary value of transactions/purchases by a customer over his/her liftetime.  Lifetime means the time period your customer purchases from you before churning.  "
   ]
  },
  {
   "cell_type": "markdown",
   "metadata": {},
   "source": [
    "## CLV Data Dictionary\n",
    "\n",
    "[Back to Contents](#Contents)\n",
    "\n",
    "**Retail Sales Data**\n",
    "\n",
    "| Variable | Values | Source | Mnemonic |\n",
    "|----------|--------|--------|----------|\n",
    "| Invoice Number | Nominal, a 6-digit integral number | UCI | InvoiceNo |\n",
    "| Product (item) code | Nominal, a 5-digit integral number | UCI | StockCode |\n",
    "| Product (item) name | String | UCI | Description |\n",
    "| Quantities of each product (item) per transaction | Numeric | UCI | Quantity |\n",
    "| Invoice Date and time | Numeric, day and time | UCI | InvoiceDate |\n",
    "| Unit price | Numeric, price per unit in sterling | UCI | UnitPrice |\n",
    "| Customer ID | Nominal, 5-digit integral number | UCI | CID |\n",
    "| Country name | Nominal, name of the country of customer | UCI | Country |\n",
    "\n",
    "Source: University of California Irvine Machine Learning Repository (*UCI*)."
   ]
  },
  {
   "cell_type": "markdown",
   "metadata": {},
   "source": [
    "## Model CLV\n",
    "\n",
    "[Back to Contents](#Contents)\n"
   ]
  },
  {
   "cell_type": "markdown",
   "metadata": {},
   "source": [
    "Use the *lifetimes* package.\n",
    "\n",
    "Create a *Recency, Frequency and Monetary Value* (*RFM*) summary table from the transactions data.\n",
    "\n",
    "The *summary_data_from_transactions_data* function in *lifetimes* package aggregates transaction level data and calculates for each customer:\n",
    "\n",
    ">- **frequency**: the number of repeat purchases (more than 1 purchases).\n",
    ">- **recency**: the time between the first and the last transaction.\n",
    ">- **T**: the time between the first purchase and the end of the transaction period.\n",
    ">- **monetary_value**: it is the mean of a given customer's sales value (i.e., Revenue).\n"
   ]
  },
  {
   "cell_type": "markdown",
   "metadata": {},
   "source": [
    "**Interpretation**\n",
    "\n",
    "Notice that the monetary value is based on the calculated Revenue (unit sales $\\times$ price).  This is not net profit.\n",
    "\n",
    "The value 0 for frequency and recency means these are one-time buyers. Let's check how many such one-time buyers there are in the DataFrame."
   ]
  },
  {
   "cell_type": "code",
   "execution_count": null,
   "metadata": {},
   "outputs": [],
   "source": [
    "##\n",
    "## Plot distribution of frequency\n",
    "##\n",
    "ax = summary[ 'frequency' ].plot( kind = 'hist', bins = 50 )\n",
    "ax.set_title( 'Frequency Distribution', fontsize = font_title )\n",
    "boldprt( 'Summary Statistics\\n')\n",
    "print( summary[ 'frequency' ].describe() )\n",
    "print( \"-\"*60 )\n",
    "one_time_buyers = round( sum( summary[ 'frequency' ] == 0)/float( len( summary ) )*( 100 ), 2 )\n",
    "print( f\"Percentage of customers purchase the item once: {one_time_buyers}%\" )"
   ]
  },
  {
   "cell_type": "markdown",
   "metadata": {},
   "source": [
    "*BG/NBD* model is available as *BetaGeoFitter* class in *lifetimes* package."
   ]
  },
  {
   "cell_type": "code",
   "execution_count": null,
   "metadata": {},
   "outputs": [],
   "source": [
    "##\n",
    "## Fit the BG/NBD model\n",
    "##\n",
    "## ===> Step 1: Instantiate the model <===\n",
    "##\n",
    "bgf = lifetimes.BetaGeoFitter( penalizer_coef = 0.0 )\n",
    "##\n",
    "## ===> Step 2: Fit the model <===\n",
    "##\n",
    "bgf01 = bgf.fit( summary[ 'frequency' ], summary[ 'recency' ], summary[ 'T' ] )\n",
    "##\n",
    "## ===> Step 3: Summarize the model <===\n",
    "##\n",
    "display( bgf.summary.style.set_caption( 'BG/NBD Model Summary' ).set_table_styles( tbl_styles ).format( p_value ) )\n",
    "boldprt( 'Base: Model bgf01' )"
   ]
  },
  {
   "cell_type": "markdown",
   "metadata": {},
   "source": [
    "Suppose you want to know whether a customer is alive or not (i.e., predict customer churn) based on the historical data. Use *model.conditional_probability_alive()* in *lifetimes* to compute the probability that a customer with the 3-tuple  history (frequency, recency, T) is currently alive.  You can then plot this using *plot_probabilty_alive_matrix(model)*."
   ]
  },
  {
   "cell_type": "code",
   "execution_count": null,
   "metadata": {},
   "outputs": [],
   "source": [
    "##\n",
    "## Compute the customer alive probability\n",
    "##\n",
    "format_dict.update( {'probability_alive':'{0:.3f}'})\n",
    "summary['probability_alive'] = bgf.conditional_probability_alive( summary[ 'frequency' ],\\\n",
    "                                        summary[ 'recency' ], summary[ 'T' ] )\n",
    "display( summary.head(10).style.set_caption( \"Customer 'Alive' Probability\" ).set_table_styles( tbl_styles ).\\\n",
    "        hide_index().format( format_dict ) )\n",
    "boldprt( 'Base: Model bgf01' )"
   ]
  },
  {
   "cell_type": "code",
   "execution_count": null,
   "metadata": {},
   "outputs": [],
   "source": [
    "##\n",
    "## Set threshold for classifying customers as alive or dead:\n",
    "##   probability_alive > theta, then Alive; else, Churned \n",
    "##\n",
    "theta = 0.75\n",
    "##\n",
    "## Score customers\n",
    "##\n",
    "base = summary.shape[ 0 ]\n",
    "summary[ 'Alive' ] = [ 'Alive' if x > theta else 'Churned' for x in summary.probability_alive ]\n",
    "display( summary.head(10).style.set_caption( \"Customer 'Alive' Status\" ).set_table_styles( tbl_styles ).hide_index().format( format_dict ) )\n",
    "boldprt( f'Base: {base} customers' )"
   ]
  },
  {
   "cell_type": "markdown",
   "metadata": {},
   "source": [
    "**Interpretation**\n",
    "\n",
    "The probabilty of being alive is calculated based on the recency and frequency of a customer. So,\n",
    "\n",
    ">1. If a customer has bought multiple times (frequency) and the time between first & last transaction is high (recency), then his/her probability being alive is high.\n",
    ">2. If a customer has less frequency (bought once or twice) and the time between first & last transaction is low (recency), then his/her probability being alive is high."
   ]
  },
  {
   "cell_type": "code",
   "execution_count": null,
   "metadata": {},
   "outputs": [],
   "source": [
    "##\n",
    "## Examine Alive/Churn status\n",
    "##\n",
    "status = summary.Alive.value_counts( normalize = True )\n",
    "tmp = pd.DataFrame( status )\n",
    "tmp.rename( columns = { \"Alive\": \"Status\" }, inplace = True )\n",
    "display( tmp.style.set_caption( \"Alive/Churn Status\" ).set_table_styles( tbl_styles ).format( format ) )"
   ]
  },
  {
   "cell_type": "markdown",
   "metadata": {},
   "source": [
    "## Predict with the CLV Model\n",
    "\n",
    "[Back to Contents](#Contents)\n",
    "\n",
    "Use the trained model to predict the likely future transactions of each customer.  Use the *conditional_expected_number_of_purchases_up_to_time* method in *lifetimes.*"
   ]
  },
  {
   "cell_type": "code",
   "execution_count": null,
   "metadata": {},
   "outputs": [],
   "source": [
    "##\n",
    "## Predict transactions for the next 30 days based on historical data\n",
    "##\n",
    "## Set steps-ahead parameter\n",
    "##\n",
    "t = 30\n",
    "##\n",
    "## Predict\n",
    "##\n",
    "summary[ 'predicted_trans' ] = round( bgf.conditional_expected_number_of_purchases_up_to_time\\\n",
    "                                ( t, summary[ 'frequency' ], summary[ 'recency' ], summary[ 'T' ] ), 2 )\n",
    "##\n",
    "format_dict.update( {'predicted_trans':'{0:.2f}'})\n",
    "summary_sorted = summary.sort_values( by = 'predicted_trans', ascending = False )\n",
    "display( summary_sorted.head().\\\n",
    "       style.set_caption( 'Predicted Future Transactions: 30 Days Ahead' ).set_table_styles( tbl_styles ).\\\n",
    "       hide_index().format( format_dict ) )"
   ]
  },
  {
   "cell_type": "markdown",
   "metadata": {},
   "source": [
    "## Model CLV Monetary Value\n",
    "\n",
    "[Back to Contents](#Contents)"
   ]
  },
  {
   "cell_type": "code",
   "execution_count": null,
   "metadata": {},
   "outputs": [],
   "source": [
    "##\n",
    "## Check the relationship between frequency and monetary_value\n",
    "##\n",
    "return_customers_summary = summary[ summary[ 'frequency' ] > 0 ]\n",
    "base = 'Base: ' + str( return_customers_summary.shape[ 0 ] ) + ' customers'\n",
    "display( return_customers_summary.head().style.set_caption( 'Predicted Transactions' ).set_table_styles( tbl_styles ).\\\n",
    "        hide_index().format( format_dict ) )\n",
    "boldprt( base )"
   ]
  },
  {
   "cell_type": "code",
   "execution_count": null,
   "metadata": {},
   "outputs": [],
   "source": [
    "##\n",
    "## Check correlation between frequency and monetary_value\n",
    "##\n",
    "cols = ['frequency', 'monetary_value']\n",
    "display( return_customers_summary[ cols ].corr().style.set_caption( 'Correlation Between Frequency & Value' ).\\\n",
    "        set_table_styles( tbl_styles ).format( '{:0.2f}' ) )"
   ]
  },
  {
   "cell_type": "markdown",
   "metadata": {},
   "source": [
    "**Interpretation**\n",
    "\n",
    "The correlation are very weak. Hence, the assumption is satisfied and we can fit the model to our data."
   ]
  },
  {
   "cell_type": "code",
   "execution_count": null,
   "metadata": {},
   "outputs": [],
   "source": [
    "## \n",
    "## Model the monetary value using the Gamma-Gamma Model\n",
    "##\n",
    "## ===> Step 1: Instantiate the model <===\n",
    "##\n",
    "ggf = lifetimes.GammaGammaFitter( penalizer_coef = 0.001 )\n",
    "##\n",
    "## ===> Step 2: Fit the model <===\n",
    "##\n",
    "ggf01 = ggf.fit( return_customers_summary[ 'frequency' ], return_customers_summary[ 'monetary_value' ] )\n",
    "##\n",
    "## ===> Step 3: Summarize the model <===\n",
    "##\n",
    "display( ggf.summary.style.set_caption( 'GGF Model Summary' ).set_table_styles( tbl_styles ).format( p_value ) )\n",
    "boldprt( 'Base: Model ggf01' )"
   ]
  },
  {
   "cell_type": "markdown",
   "metadata": {},
   "source": [
    "Predict the expected average profit for each transaction and the *CLV* using the model. Use:\n",
    "\n",
    ">1. *model.conditional_expected_average_profit()*: This method computes the conditional expectation of the average profit per transaction for a group of one or more customers.\n",
    ">2. *model.customer_lifetime_value()*: This method computes the average lifetime value of a group of one or more customers. This method takes the *BG/NBD* model and the prediction horizon as a parameter to calculate the *CLV*."
   ]
  },
  {
   "cell_type": "code",
   "execution_count": null,
   "metadata": {},
   "outputs": [],
   "source": [
    "##\n",
    "## Calculate the conditional expected average profit for each customer per transaction\n",
    "##\n",
    "format_dict.update( {'exp_avg_sales':'${0:,.2f}'})\n",
    "summary = summary[summary['monetary_value'] >0]\n",
    "summary['exp_avg_sales'] = ggf.conditional_expected_average_profit(summary['frequency'],\n",
    "                                       summary['monetary_value'])\n",
    "display( summary.head().style.set_caption( 'Summary Measures' ).set_table_styles( tbl_styles).\\\n",
    "        hide_index().format( format_dict ) ) "
   ]
  },
  {
   "cell_type": "markdown",
   "metadata": {},
   "source": [
    "**Interpretation**\n",
    "\n",
    "The expected average sales is based on the actual sales value, not profit. We can use the model to get *predicted CLV* and then multiply that by a profit margin to get a profit value."
   ]
  },
  {
   "cell_type": "code",
   "execution_count": null,
   "metadata": {},
   "outputs": [],
   "source": [
    "##\n",
    "## Predict CLV for the next 30 days; set discount rate to 1% (0.01)\n",
    "##\n",
    "format_dict.update( {'predicted_clv':'${0:,.2f}'})\n",
    "summary[ 'predicted_clv' ] = ggf.customer_lifetime_value( bgf, summary[ 'frequency' ], summary[ 'recency' ], summary[ 'T' ],\\\n",
    "                                                       summary[ 'monetary_value' ], \n",
    "                                                       time = 1,             # lifetime in months\n",
    "                                                       freq = 'D',           # frequency in which the data is present(T)      \n",
    "                                                       discount_rate = 0.01  # discount rate\n",
    "                                                    )\n",
    "display( summary.head().style.set_caption( 'Summary' ).set_table_styles( tbl_styles).hide_index().format( format_dict ) ) "
   ]
  },
  {
   "cell_type": "markdown",
   "metadata": {},
   "source": [
    "**Interpretation**\n",
    "\n",
    "The predicted *CLV* is sales volume.  Need to calculate net profit using the profit margin."
   ]
  },
  {
   "cell_type": "code",
   "execution_count": null,
   "metadata": {},
   "outputs": [],
   "source": [
    "##\n",
    "## Calculate CLV in terms of net profit for each customer (profit margin = 5%)\n",
    "## Net profit for each customer is sales value times profit margin.\n",
    "##\n",
    "profit_margin = 0.05\n",
    "##\n",
    "format_dict.update( {'CLV':'${0:,.2f}'})\n",
    "summary[ 'CLV' ] = summary[ 'predicted_clv' ] * profit_margin\n",
    "display( summary.head().style.set_caption( 'Summary' ).set_table_styles( tbl_styles).\\\n",
    "        hide_index().format( format_dict ) ) "
   ]
  },
  {
   "cell_type": "code",
   "execution_count": null,
   "metadata": {},
   "outputs": [],
   "source": [
    "##\n",
    "## Display the distribution of CLV for the next 30 days\n",
    "##\n",
    "display( summary[ 'CLV' ].describe() )"
   ]
  }
 ],
 "metadata": {
  "interpreter": {
   "hash": "8150ea46efa757bfdd5d22d0a355bfe73580513a59f5d3e28a7797c6a3679f4c"
  },
  "kernelspec": {
   "display_name": "Python 3.7.1 64-bit",
   "name": "python3"
  },
  "language_info": {
   "codemirror_mode": {
    "name": "ipython",
    "version": 3
   },
   "file_extension": ".py",
   "mimetype": "text/x-python",
   "name": "python",
   "nbconvert_exporter": "python",
   "pygments_lexer": "ipython3",
   "version": "3.7.8"
  }
 },
 "nbformat": 4,
 "nbformat_minor": 4
}
